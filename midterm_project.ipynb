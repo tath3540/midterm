{
  "nbformat": 4,
  "nbformat_minor": 0,
  "metadata": {
    "colab": {
      "provenance": []
    },
    "kernelspec": {
      "name": "python3",
      "display_name": "Python 3"
    },
    "language_info": {
      "name": "python"
    }
  },
  "cells": [
    {
      "cell_type": "code",
      "execution_count": null,
      "metadata": {
        "id": "ycMScZlLchjc",
        "colab": {
          "base_uri": "https://localhost:8080/",
          "height": 74
        },
        "outputId": "629048a3-e5aa-4fd2-9cd4-acdaf994dee4"
      },
      "outputs": [
        {
          "output_type": "display_data",
          "data": {
            "text/plain": [
              "<IPython.core.display.HTML object>"
            ],
            "text/html": [
              "\n",
              "     <input type=\"file\" id=\"files-9c0c4f25-3175-4ba1-8669-992d50968673\" name=\"files[]\" multiple disabled\n",
              "        style=\"border:none\" />\n",
              "     <output id=\"result-9c0c4f25-3175-4ba1-8669-992d50968673\">\n",
              "      Upload widget is only available when the cell has been executed in the\n",
              "      current browser session. Please rerun this cell to enable.\n",
              "      </output>\n",
              "      <script>// Copyright 2017 Google LLC\n",
              "//\n",
              "// Licensed under the Apache License, Version 2.0 (the \"License\");\n",
              "// you may not use this file except in compliance with the License.\n",
              "// You may obtain a copy of the License at\n",
              "//\n",
              "//      http://www.apache.org/licenses/LICENSE-2.0\n",
              "//\n",
              "// Unless required by applicable law or agreed to in writing, software\n",
              "// distributed under the License is distributed on an \"AS IS\" BASIS,\n",
              "// WITHOUT WARRANTIES OR CONDITIONS OF ANY KIND, either express or implied.\n",
              "// See the License for the specific language governing permissions and\n",
              "// limitations under the License.\n",
              "\n",
              "/**\n",
              " * @fileoverview Helpers for google.colab Python module.\n",
              " */\n",
              "(function(scope) {\n",
              "function span(text, styleAttributes = {}) {\n",
              "  const element = document.createElement('span');\n",
              "  element.textContent = text;\n",
              "  for (const key of Object.keys(styleAttributes)) {\n",
              "    element.style[key] = styleAttributes[key];\n",
              "  }\n",
              "  return element;\n",
              "}\n",
              "\n",
              "// Max number of bytes which will be uploaded at a time.\n",
              "const MAX_PAYLOAD_SIZE = 100 * 1024;\n",
              "\n",
              "function _uploadFiles(inputId, outputId) {\n",
              "  const steps = uploadFilesStep(inputId, outputId);\n",
              "  const outputElement = document.getElementById(outputId);\n",
              "  // Cache steps on the outputElement to make it available for the next call\n",
              "  // to uploadFilesContinue from Python.\n",
              "  outputElement.steps = steps;\n",
              "\n",
              "  return _uploadFilesContinue(outputId);\n",
              "}\n",
              "\n",
              "// This is roughly an async generator (not supported in the browser yet),\n",
              "// where there are multiple asynchronous steps and the Python side is going\n",
              "// to poll for completion of each step.\n",
              "// This uses a Promise to block the python side on completion of each step,\n",
              "// then passes the result of the previous step as the input to the next step.\n",
              "function _uploadFilesContinue(outputId) {\n",
              "  const outputElement = document.getElementById(outputId);\n",
              "  const steps = outputElement.steps;\n",
              "\n",
              "  const next = steps.next(outputElement.lastPromiseValue);\n",
              "  return Promise.resolve(next.value.promise).then((value) => {\n",
              "    // Cache the last promise value to make it available to the next\n",
              "    // step of the generator.\n",
              "    outputElement.lastPromiseValue = value;\n",
              "    return next.value.response;\n",
              "  });\n",
              "}\n",
              "\n",
              "/**\n",
              " * Generator function which is called between each async step of the upload\n",
              " * process.\n",
              " * @param {string} inputId Element ID of the input file picker element.\n",
              " * @param {string} outputId Element ID of the output display.\n",
              " * @return {!Iterable<!Object>} Iterable of next steps.\n",
              " */\n",
              "function* uploadFilesStep(inputId, outputId) {\n",
              "  const inputElement = document.getElementById(inputId);\n",
              "  inputElement.disabled = false;\n",
              "\n",
              "  const outputElement = document.getElementById(outputId);\n",
              "  outputElement.innerHTML = '';\n",
              "\n",
              "  const pickedPromise = new Promise((resolve) => {\n",
              "    inputElement.addEventListener('change', (e) => {\n",
              "      resolve(e.target.files);\n",
              "    });\n",
              "  });\n",
              "\n",
              "  const cancel = document.createElement('button');\n",
              "  inputElement.parentElement.appendChild(cancel);\n",
              "  cancel.textContent = 'Cancel upload';\n",
              "  const cancelPromise = new Promise((resolve) => {\n",
              "    cancel.onclick = () => {\n",
              "      resolve(null);\n",
              "    };\n",
              "  });\n",
              "\n",
              "  // Wait for the user to pick the files.\n",
              "  const files = yield {\n",
              "    promise: Promise.race([pickedPromise, cancelPromise]),\n",
              "    response: {\n",
              "      action: 'starting',\n",
              "    }\n",
              "  };\n",
              "\n",
              "  cancel.remove();\n",
              "\n",
              "  // Disable the input element since further picks are not allowed.\n",
              "  inputElement.disabled = true;\n",
              "\n",
              "  if (!files) {\n",
              "    return {\n",
              "      response: {\n",
              "        action: 'complete',\n",
              "      }\n",
              "    };\n",
              "  }\n",
              "\n",
              "  for (const file of files) {\n",
              "    const li = document.createElement('li');\n",
              "    li.append(span(file.name, {fontWeight: 'bold'}));\n",
              "    li.append(span(\n",
              "        `(${file.type || 'n/a'}) - ${file.size} bytes, ` +\n",
              "        `last modified: ${\n",
              "            file.lastModifiedDate ? file.lastModifiedDate.toLocaleDateString() :\n",
              "                                    'n/a'} - `));\n",
              "    const percent = span('0% done');\n",
              "    li.appendChild(percent);\n",
              "\n",
              "    outputElement.appendChild(li);\n",
              "\n",
              "    const fileDataPromise = new Promise((resolve) => {\n",
              "      const reader = new FileReader();\n",
              "      reader.onload = (e) => {\n",
              "        resolve(e.target.result);\n",
              "      };\n",
              "      reader.readAsArrayBuffer(file);\n",
              "    });\n",
              "    // Wait for the data to be ready.\n",
              "    let fileData = yield {\n",
              "      promise: fileDataPromise,\n",
              "      response: {\n",
              "        action: 'continue',\n",
              "      }\n",
              "    };\n",
              "\n",
              "    // Use a chunked sending to avoid message size limits. See b/62115660.\n",
              "    let position = 0;\n",
              "    do {\n",
              "      const length = Math.min(fileData.byteLength - position, MAX_PAYLOAD_SIZE);\n",
              "      const chunk = new Uint8Array(fileData, position, length);\n",
              "      position += length;\n",
              "\n",
              "      const base64 = btoa(String.fromCharCode.apply(null, chunk));\n",
              "      yield {\n",
              "        response: {\n",
              "          action: 'append',\n",
              "          file: file.name,\n",
              "          data: base64,\n",
              "        },\n",
              "      };\n",
              "\n",
              "      let percentDone = fileData.byteLength === 0 ?\n",
              "          100 :\n",
              "          Math.round((position / fileData.byteLength) * 100);\n",
              "      percent.textContent = `${percentDone}% done`;\n",
              "\n",
              "    } while (position < fileData.byteLength);\n",
              "  }\n",
              "\n",
              "  // All done.\n",
              "  yield {\n",
              "    response: {\n",
              "      action: 'complete',\n",
              "    }\n",
              "  };\n",
              "}\n",
              "\n",
              "scope.google = scope.google || {};\n",
              "scope.google.colab = scope.google.colab || {};\n",
              "scope.google.colab._files = {\n",
              "  _uploadFiles,\n",
              "  _uploadFilesContinue,\n",
              "};\n",
              "})(self);\n",
              "</script> "
            ]
          },
          "metadata": {}
        },
        {
          "output_type": "stream",
          "name": "stdout",
          "text": [
            "Saving colorado_cannabis.csv to colorado_cannabis.csv\n"
          ]
        }
      ],
      "source": [
        "from google.colab import files\n",
        "uploaded = files.upload()"
      ]
    },
    {
      "cell_type": "code",
      "source": [
        "### calculate total revenue across all classifications and specifications:\n",
        "def calculate_total_revenue(data):\n",
        "  total_revenue = 0\n",
        "  for row in data:\n",
        "    number_of_plants = int(row['numberofplants'])\n",
        "    cost_per_plant - int(row['costperplant'].replace('$',''))\n",
        "    total_revenue += number_of_plants * cost_per_plant\n",
        "  return total_revenue"
      ],
      "metadata": {
        "id": "93T_ZnRvr-fc"
      },
      "execution_count": null,
      "outputs": []
    },
    {
      "cell_type": "markdown",
      "source": [
        "\n",
        "\n",
        "1.   code generates the total revenue generated by the sales data provided as input (this is total revenue across all growers in the dataset, no matter the classification)\n",
        "2.   using a for loop, we loop through each row of the data and extract the # of plants and cost per plant from the respective columns, calculates the revenue for that row, and adds it to a running total\n",
        "3. total revenue is returned as an output of the function\n",
        "\n"
      ],
      "metadata": {
        "id": "HmaG_8vTsYmL"
      }
    },
    {
      "cell_type": "code",
      "source": [
        "### calculate average profit across all classifications and specifications:\n",
        "def calculate_average_profit(data):\n",
        "  total_profit = 0\n",
        "  num_profitable = 0\n",
        "  for row in data:\n",
        "    if row['growerstatus'] == 'profit':\n",
        "      num_profitable += 1\n",
        "      number_of_plants = int(row['numberofplants'])\n",
        "      cost_per_plant = int(row['costperplant'].replace('$',''))\n",
        "      total_profit += number_of_plants * cost_per_plant\n",
        "  if num_profitable == 0:\n",
        "    return 0\n",
        "  else:\n",
        "    return total_profit / num_profitable"
      ],
      "metadata": {
        "id": "OHAFoBoVs1kv"
      },
      "execution_count": null,
      "outputs": []
    },
    {
      "cell_type": "markdown",
      "source": [
        "\n",
        "\n",
        "1.  initializes total_profit and num_profitable' to 0\n",
        "2.   iterate thru each row in the data to check if grower status is 'profit', since we are calculating avg profit only for those growers who have a 'profit' status\n",
        "3. if grower has'profit' status, increase 'num_profitable' by 1 and calculate the profit for that row\n",
        "4. profit is added to the total_profit variable\n",
        "5. if there are no profitable growers, the function returns 0\n",
        "6. otherwise, it calculates the avg profit\n",
        "\n"
      ],
      "metadata": {
        "id": "QQVm_O48vLfF"
      }
    },
    {
      "cell_type": "markdown",
      "source": [
        "\n",
        "\n",
        "1.   function uses a dictionary to keep track of the revenue for each grower status; delimiter '\\t' is used to separate columns of data in a text file by tabs\n",
        "2.   calculate revenue for each row and add it to the appropriate value in the dictionary based on growerstatus\n",
        "3. return the dictionary with the revenue for each status\n",
        "\n"
      ],
      "metadata": {
        "id": "2Sc34qmExQBV"
      }
    },
    {
      "cell_type": "code",
      "source": [
        "### calculate total revenue per grower(growername):"
      ],
      "metadata": {
        "id": "tFP-51uBG4tJ"
      },
      "execution_count": null,
      "outputs": []
    },
    {
      "cell_type": "code",
      "source": [
        "### load data from file:\n",
        "with open('colorado_cannabis.csv','r') as csv_file:\n",
        "  csv_reader = csv.DictReader(csv_file, delimiter='\\t')\n",
        "  data = [row for row in csv_reader]"
      ],
      "metadata": {
        "id": "BFmEB9_y_dr1",
        "colab": {
          "base_uri": "https://localhost:8080/",
          "height": 222
        },
        "outputId": "d5ee0b4f-a179-4a28-98a3-13189795c28d"
      },
      "execution_count": null,
      "outputs": [
        {
          "output_type": "error",
          "ename": "NameError",
          "evalue": "ignored",
          "traceback": [
            "\u001b[0;31m---------------------------------------------------------------------------\u001b[0m",
            "\u001b[0;31mNameError\u001b[0m                                 Traceback (most recent call last)",
            "\u001b[0;32m<ipython-input-6-0c1202aed25e>\u001b[0m in \u001b[0;36m<cell line: 2>\u001b[0;34m()\u001b[0m\n\u001b[1;32m      1\u001b[0m \u001b[0;31m### load data from file:\u001b[0m\u001b[0;34m\u001b[0m\u001b[0;34m\u001b[0m\u001b[0m\n\u001b[1;32m      2\u001b[0m \u001b[0;32mwith\u001b[0m \u001b[0mopen\u001b[0m\u001b[0;34m(\u001b[0m\u001b[0;34m'colorado_cannabis.csv'\u001b[0m\u001b[0;34m,\u001b[0m\u001b[0;34m'r'\u001b[0m\u001b[0;34m)\u001b[0m \u001b[0;32mas\u001b[0m \u001b[0mcsv_file\u001b[0m\u001b[0;34m:\u001b[0m\u001b[0;34m\u001b[0m\u001b[0;34m\u001b[0m\u001b[0m\n\u001b[0;32m----> 3\u001b[0;31m   \u001b[0mcsv_reader\u001b[0m \u001b[0;34m=\u001b[0m \u001b[0mcsv\u001b[0m\u001b[0;34m.\u001b[0m\u001b[0mDictReader\u001b[0m\u001b[0;34m(\u001b[0m\u001b[0mcsv_file\u001b[0m\u001b[0;34m,\u001b[0m \u001b[0mdelimiter\u001b[0m\u001b[0;34m=\u001b[0m\u001b[0;34m'\\t'\u001b[0m\u001b[0;34m)\u001b[0m\u001b[0;34m\u001b[0m\u001b[0;34m\u001b[0m\u001b[0m\n\u001b[0m\u001b[1;32m      4\u001b[0m   \u001b[0mdata\u001b[0m \u001b[0;34m=\u001b[0m \u001b[0;34m[\u001b[0m\u001b[0mrow\u001b[0m \u001b[0;32mfor\u001b[0m \u001b[0mrow\u001b[0m \u001b[0;32min\u001b[0m \u001b[0mcsv_reader\u001b[0m\u001b[0;34m]\u001b[0m\u001b[0;34m\u001b[0m\u001b[0;34m\u001b[0m\u001b[0m\n",
            "\u001b[0;31mNameError\u001b[0m: name 'csv' is not defined"
          ]
        }
      ]
    },
    {
      "cell_type": "code",
      "source": [
        "### calculate revenue for each grower (licensed vs unlicensed):\n",
        "import csv\n",
        "\n",
        "def read_data_from_csv(file_name):\n",
        "  with open(file_name, 'r') as file:\n",
        "    reader = csv.DictReader(file)\n",
        "    data = [row for row in reader]\n",
        "  return data\n",
        "\n",
        "data = read_data_from_csv('colorado_cannabis.csv')\n",
        "\n",
        "def calculate_revenue_by_status(data):\n",
        "  revenue_by_status = {'licensed':0,'unlicensed':0}\n",
        "\n",
        "  for row in data:\n",
        "    number_of_plants = int(row['numberofplants'])\n",
        "    cost_per_plant = int(row['costperplant'].replace('$',''))\n",
        "    revenue = number_of_plants * cost_per_plant\n",
        "    revenue_by_status[row['growerstatus']] += revenue\n",
        "\n",
        "  print(\"The total revenue for a licensed grower is: $\" + str(revenue_by_status['licensed']))\n",
        "  print(\"The total revenue for an unlicensed grower is: $\" + str(revenue_by_status['unlicensed']))"
      ],
      "metadata": {
        "id": "eMgn0_vh_x1d"
      },
      "execution_count": null,
      "outputs": []
    },
    {
      "cell_type": "code",
      "source": [
        "### calculate revenue for each city:\n",
        "def calculate_revenue_by_city(data):\n",
        "  cities = ['Denver','Boulder','Telluride','South Park','Colorado Springs','Aurora','Greely','Lakewood','Vail','Fort Collins','Broomfield','Castle Rock','Durango','Aspen','Alamosa','Erie','Fredrick','Grand Junction','Rifle']\n",
        "  revenue_by_city = {city: 0 for city in cities}\n",
        "\n",
        "  for row in data:\n",
        "    city = row['city']\n",
        "    if city not in cities: \n",
        "      continue\n",
        "    number_of_plants = int(row['numberofplants'])\n",
        "    cost_per_plant = int(row['costperplant'].replace('$',''))\n",
        "    revenue = number_of_plants * cost_per_plant\n",
        "    revenue_by_city[city] += revenue\n",
        "\n",
        "  return revenue_by_city"
      ],
      "metadata": {
        "id": "76C2qyVzAZJD"
      },
      "execution_count": null,
      "outputs": []
    },
    {
      "cell_type": "code",
      "source": [
        "### calculate revenue for each classification (personal vs profit)\n",
        "def calculate_revenue_by_grower_classification(data):\n",
        "  calculate_revenue_by_grower_classification = {'personal':0, 'profit':0}\n",
        "\n",
        "  for row in data:\n",
        "    grower_classification = row['growerclassification']\n",
        "    number_of_plants = int(row['numberofplants'])\n",
        "    cost_per_plant = int(row['costperplant'].replace('$',''))\n",
        "    total_revenue = number_of_plants * cost_per_plant\n",
        "    if grower_classification == 'personal':\n",
        "      revenue_by_grower_classification['personal'] += total_revenue\n",
        "    elif grower_classification == 'profit':\n",
        "      revenue_by_grower_classification['profit'] += total_revenue\n",
        "\n",
        "  return revenue_by_grower_classification"
      ],
      "metadata": {
        "id": "XxUbg4V9A4cw"
      },
      "execution_count": null,
      "outputs": []
    },
    {
      "cell_type": "code",
      "source": [
        "import pandas as pd\n",
        "from pandas import DataFrame\n",
        "\n",
        "filename = \"colorado_cannabis.csv\"\n",
        "\n",
        "df = pd.read_csv(filename)"
      ],
      "metadata": {
        "id": "dLWCCZ_tsPaV"
      },
      "execution_count": null,
      "outputs": []
    },
    {
      "cell_type": "code",
      "source": [
        "def num_observations(input_df: DataFrame) -> int:\n",
        "  return len(df)\n",
        "print(num_observations(df))"
      ],
      "metadata": {
        "colab": {
          "base_uri": "https://localhost:8080/"
        },
        "id": "IsFr0UgjsnwM",
        "outputId": "d036efe8-21d7-4567-86c7-3638edd6cf9a"
      },
      "execution_count": null,
      "outputs": [
        {
          "output_type": "stream",
          "name": "stdout",
          "text": [
            "60\n"
          ]
        }
      ]
    },
    {
      "cell_type": "code",
      "source": [],
      "metadata": {
        "id": "9wXcBmlstheu"
      },
      "execution_count": null,
      "outputs": []
    }
  ]
}